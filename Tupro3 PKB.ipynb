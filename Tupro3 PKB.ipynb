{
 "cells": [
  {
   "cell_type": "markdown",
   "id": "b5afb5b7",
   "metadata": {},
   "source": [
    "# Tupro3 PKB (Learning)"
   ]
  },
  {
   "cell_type": "markdown",
   "id": "ab4dc602",
   "metadata": {},
   "source": [
    "Machine Learning\n",
    "\n",
    "Diberi data traintest.xlsx, ditugaskan untuk menggunakan data ini untuk memprediksi masalah klasifikasi biner\n",
    "\n",
    "Langkah-langkah :\n",
    "- Membaca data\n",
    "- Membuat metode learning\n",
    "- Latih model data\n",
    "- Menguji dan mengevaluasi model data"
   ]
  },
  {
   "cell_type": "markdown",
   "id": "ccb82b2a",
   "metadata": {},
   "source": [
    "# 1. Membaca data"
   ]
  },
  {
   "cell_type": "code",
   "execution_count": 39,
   "id": "e9fbb2d9",
   "metadata": {},
   "outputs": [],
   "source": [
    "import pandas as pd\n",
    "from math import sqrt\n",
    "from statistics import mode"
   ]
  },
  {
   "cell_type": "code",
   "execution_count": 40,
   "id": "5dbf153f",
   "metadata": {},
   "outputs": [
    {
     "name": "stdout",
     "output_type": "stream",
     "text": [
      "Banyak baris pada train : 296\n",
      "Banyak baris pada test : 10\n"
     ]
    }
   ],
   "source": [
    "data = pd.read_excel('traintest.xlsx', index_col='id')\n",
    "test_data = pd.read_excel('traintest.xlsx', sheet_name='test', index_col='id')[['x1', 'x2', 'x3']]\n",
    "\n",
    "print('Banyak baris pada train :', len(data))\n",
    "print('Banyak baris pada test :', len(test_data))"
   ]
  },
  {
   "cell_type": "markdown",
   "id": "8d47aefc",
   "metadata": {},
   "source": [
    "File traintest.xlsx memiliki 296 baris data pada datasheet yang bernama train, dan 10 baris data pada datasheet yang bernama test. Pertama-tama, mari kita ambil 20% dari datasheet train secara acak untuk digunakan sebagai testing akurasi dan 80% sisanya untuk training data."
   ]
  },
  {
   "cell_type": "code",
   "execution_count": 41,
   "id": "baf506a1",
   "metadata": {},
   "outputs": [],
   "source": [
    "def ambilsampel(data):\n",
    "    acctest_data = data.sample(frac=.2)\n",
    "    train_data = data.drop(acctest_data.index)\n",
    "    return acctest_data, train_data\n",
    "\n",
    "acctest_data, train_data = ambilsampel(data)\n",
    "#print('Banyak baris pada train_data :', len(train_data))\n",
    "#print('Banyak baris pada acctest_data :', len(acctest_data))"
   ]
  },
  {
   "cell_type": "code",
   "execution_count": 42,
   "id": "fab08f70",
   "metadata": {},
   "outputs": [
    {
     "data": {
      "text/plain": [
       "False"
      ]
     },
     "execution_count": 42,
     "metadata": {},
     "output_type": "execute_result"
    }
   ],
   "source": [
    "train_data.equals(acctest_data)"
   ]
  },
  {
   "cell_type": "markdown",
   "id": "0d00cf87",
   "metadata": {},
   "source": [
    "Lalu untuk mempermudah dilakukannya testing akurasi, kita bagi data training menjadi 2 dimana salah satunya menyimpan nilai x dan yang lainnya menyimpan nilai y."
   ]
  },
  {
   "cell_type": "code",
   "execution_count": 43,
   "id": "3028a314",
   "metadata": {},
   "outputs": [],
   "source": [
    "def splitdata(acctest_data = None, train_data = None):\n",
    "    \n",
    "    if train_data is not None and acctest_data is None:\n",
    "        train_data_x = train_data[['x1', 'x2', 'x3']].values.tolist()\n",
    "        train_data_y = train_data['y'].values.tolist()\n",
    "        return train_data_x, train_data_y\n",
    "\n",
    "    elif train_data is None and acctest_data is not None:\n",
    "        acctest_data_x = acctest_data[['x1', 'x2', 'x3']].values.tolist()\n",
    "        acctest_data_y = acctest_data['y'].values.tolist()\n",
    "        return acctest_data_x, acctest_data_y\n",
    "    \n",
    "    else:\n",
    "        train_data_x = train_data[['x1', 'x2', 'x3']].values.tolist()\n",
    "        train_data_y = train_data['y'].values.tolist()\n",
    "        acctest_data_x = acctest_data[['x1', 'x2', 'x3']].values.tolist()\n",
    "        acctest_data_y = acctest_data['y'].values.tolist()\n",
    "        return train_data_x, train_data_y, acctest_data_x, acctest_data_y\n"
   ]
  },
  {
   "cell_type": "markdown",
   "id": "05cd91d7",
   "metadata": {},
   "source": [
    "# 2. Membuat metode learning"
   ]
  },
  {
   "cell_type": "markdown",
   "id": "af3b4934",
   "metadata": {},
   "source": [
    "Ada berbagai macam metode yang bisa digunakan untuk memecahkan masalah binary classification. Diantara metode-metode yang ada, pada kali ini kita akan mencoba metode KNN (K Nearest Neighbour)."
   ]
  },
  {
   "cell_type": "markdown",
   "id": "ad39f4e1",
   "metadata": {},
   "source": [
    "Metode KNN atau yang biasa disebut dengan Lazy Learning adalah sebuah metode yang bekerja dengan cara membandingkan jarak suatu titik yang ditentukan oleh titik baru dengan titik-titik lain yang sudah ditentukan keanggotaannya. Kemudian, ditentukan keanggotaan titik baru ini berdasarkan keanggotaan K titik yang terdekat dengan titik baru."
   ]
  },
  {
   "cell_type": "markdown",
   "id": "aaa4282e",
   "metadata": {},
   "source": [
    "Untuk membuat metode KNN, diperlukan :\n",
    "- Perhitungan jarak antar titik (akan digunakan euclidean distance)\n",
    "- Pengklasifikasian berdasarkan K titik terdekat\n",
    "\n",
    "Maka dari itu dibuat 3 komponen fungsi, yang masing-masing memiliki tugas diantaranya :\n",
    "- eucl_dist = Menghitung jarak antar titik (titik baru dengan titik yang dimasukan)\n",
    "- neighbours = Mengembalikan klasifikasi dari titik baru berdasarkan perbandingan jarak ke K neighbour yang ada\n",
    "- prediction = Mengembalikan array berisi prediksi yang didapatkan dari melakukan perulangan pada fungsi neighbours untuk setiap titik baru yang ada pada dataset"
   ]
  },
  {
   "cell_type": "code",
   "execution_count": 44,
   "id": "a7e8445c",
   "metadata": {},
   "outputs": [],
   "source": [
    "def eucl_dist(x1, x2):\n",
    "    distance = 0\n",
    "    for i in range(3):\n",
    "        distance += pow((x2[i]-x1[i]), 2)\n",
    "    return sqrt(distance)"
   ]
  },
  {
   "cell_type": "code",
   "execution_count": 45,
   "id": "7461bfa9",
   "metadata": {},
   "outputs": [],
   "source": [
    "def neighbours(train_data_x, train_data_y, titik_baru, k):\n",
    "    \n",
    "    dist_list = []\n",
    "    i = 0\n",
    "    while i != len(train_data_x):\n",
    "        #mengembalikan jarak titik baru dengan titik pada train data dan juga klasifikasi dari train datanya\n",
    "        dist_list.append([eucl_dist(train_data_x[i], titik_baru), train_data_y[i]])\n",
    "        i += 1\n",
    "    dist_list.sort(key=lambda x: x[0])\n",
    "    dist_list_final = dist_list[:k]\n",
    "    \n",
    "    j = 0\n",
    "    #klasifikasi\n",
    "    vote_0 = 0\n",
    "    vote_1 = 0\n",
    "    \n",
    "    while j < len(dist_list_final):\n",
    "        val = dist_list_final[j][1]\n",
    "        if val == 0:\n",
    "            vote_0 += 1\n",
    "        elif val == 1:\n",
    "            vote_1 += 1\n",
    "        j += 1\n",
    "        \n",
    "    #jika 0 > 1\n",
    "    if vote_0 > vote_1:\n",
    "        return 0\n",
    "    #jika 1 > 0\n",
    "    elif vote_0 < vote_1:\n",
    "        return 1\n",
    "    #jika 0 = 1\n",
    "    else:\n",
    "        count_0 = 0\n",
    "        count_1 = 0\n",
    "        for i in train_data_y:\n",
    "            if i == 1:\n",
    "                count_1 += 1\n",
    "            else:\n",
    "                count_0 += 1\n",
    "        if count_1 > count_0:\n",
    "            return 1\n",
    "        else:\n",
    "            return 0"
   ]
  },
  {
   "cell_type": "code",
   "execution_count": 46,
   "id": "593b87bb",
   "metadata": {
    "scrolled": true
   },
   "outputs": [],
   "source": [
    "#jika ans False (tidak diketahui jawabannya), maka hanya mereturn prediksinya saja\n",
    "def prediction(k, train_data_x, train_data_y, acctest_data_x, ans=None):\n",
    "    #prediction banding actual\n",
    "    predict = []\n",
    "    count = 0\n",
    "    while count != len(acctest_data_x):\n",
    "        if ans is None:\n",
    "            predict.append(neighbours(train_data_x, train_data_y, acctest_data_x[count], k))\n",
    "        else:\n",
    "            predict.append([neighbours(train_data_x, train_data_y, acctest_data_x[count], k), ans[count]])\n",
    "        count += 1\n",
    "    return predict"
   ]
  },
  {
   "cell_type": "code",
   "execution_count": 47,
   "id": "9a5a7978",
   "metadata": {
    "scrolled": true
   },
   "outputs": [
    {
     "data": {
      "text/plain": [
       "[[0, 1],\n",
       " [1, 1],\n",
       " [1, 0],\n",
       " [1, 0],\n",
       " [1, 0],\n",
       " [0, 1],\n",
       " [1, 0],\n",
       " [1, 1],\n",
       " [1, 0],\n",
       " [1, 0],\n",
       " [1, 0],\n",
       " [1, 0],\n",
       " [1, 1],\n",
       " [1, 1],\n",
       " [1, 1],\n",
       " [1, 1],\n",
       " [1, 1],\n",
       " [1, 1],\n",
       " [1, 1],\n",
       " [1, 1],\n",
       " [1, 1],\n",
       " [1, 1],\n",
       " [0, 0],\n",
       " [1, 1],\n",
       " [1, 1],\n",
       " [1, 1],\n",
       " [1, 1],\n",
       " [1, 0],\n",
       " [1, 0],\n",
       " [0, 0],\n",
       " [1, 1],\n",
       " [1, 1],\n",
       " [1, 1],\n",
       " [0, 0],\n",
       " [1, 0],\n",
       " [1, 0],\n",
       " [1, 1],\n",
       " [1, 0],\n",
       " [0, 1],\n",
       " [1, 1],\n",
       " [1, 1],\n",
       " [1, 1],\n",
       " [1, 0],\n",
       " [1, 1],\n",
       " [1, 1],\n",
       " [1, 1],\n",
       " [1, 1],\n",
       " [1, 0],\n",
       " [1, 1],\n",
       " [1, 1],\n",
       " [1, 1],\n",
       " [1, 1],\n",
       " [0, 1],\n",
       " [1, 1],\n",
       " [1, 0],\n",
       " [1, 0],\n",
       " [1, 0],\n",
       " [1, 1],\n",
       " [1, 1]]"
      ]
     },
     "execution_count": 47,
     "metadata": {},
     "output_type": "execute_result"
    }
   ],
   "source": [
    "#testing fungsi prediction\n",
    "train_data_x, train_data_y, acctest_data_x, acctest_data_y = splitdata(acctest_data, train_data)\n",
    "prediction(2, train_data_x, train_data_y, acctest_data_x, acctest_data_y)"
   ]
  },
  {
   "cell_type": "markdown",
   "id": "709196d6",
   "metadata": {},
   "source": [
    "# 3. Latih model data"
   ]
  },
  {
   "cell_type": "markdown",
   "id": "9c5d3b3d",
   "metadata": {},
   "source": [
    "Setelah metode learning dibuat, langkah selanjutnya adalah menguji akurasi menggunakan dataset yang sudah dibagi-bagi sebelumnya. Adapun tujuan dari menguji akurasi ini adalah untuk mendapatkan nilai K terbaik yang pada nantinya akan digunakan untuk ujicoba real data (test_data)."
   ]
  },
  {
   "cell_type": "markdown",
   "id": "57efd976",
   "metadata": {},
   "source": [
    "Untuk menguji akurasi data, pada kali ini akan digunakan confusion matrix."
   ]
  },
  {
   "cell_type": "code",
   "execution_count": 48,
   "id": "7571105c",
   "metadata": {},
   "outputs": [],
   "source": [
    "#accuracy test menggunakan confusion matrix\n",
    "def accutest(train_data, acctest_data):\n",
    "    train_data_x, train_data_y, acctest_data_x, acctest_data_y = splitdata(acctest_data, train_data)\n",
    "    nilai_k = range(1, 11, 1)\n",
    "    acc_res = []\n",
    "    for k in nilai_k:\n",
    "        TP = 0\n",
    "        TN = 0\n",
    "        FP = 0\n",
    "        FN = 0\n",
    "        test_arr = prediction(k, train_data_x, train_data_y, acctest_data_x, acctest_data_y)\n",
    "        i = 0\n",
    "        while i != len(test_arr):\n",
    "            if test_arr[i][0] == 1 and test_arr[i][1] == 1:\n",
    "                TP += 1\n",
    "            elif test_arr[i][0] == 1 and test_arr[i][1] == 0:\n",
    "                FP += 1\n",
    "            elif test_arr[i][0] == 0 and test_arr[i][1] == 1:\n",
    "                FN += 1\n",
    "            elif test_arr[i][0] == 0 and test_arr[i][1] == 0:\n",
    "                TN += 1\n",
    "            i += 1\n",
    "        accuracy = (TP+TN)/(TP+TN+FP+FN)\n",
    "        precision = TP/(TP+FP)\n",
    "        recall = TP/(TP+FN)\n",
    "        f1_score = (2*precision*recall)/(precision+recall)\n",
    "        acc_res.append([k, accuracy, f1_score])\n",
    "    acc_res.sort(key=lambda x: (-x[1], x[2]))\n",
    "    return acc_res[0]"
   ]
  },
  {
   "cell_type": "code",
   "execution_count": 49,
   "id": "aa45793e",
   "metadata": {},
   "outputs": [
    {
     "data": {
      "text/plain": [
       "[7, 0.6610169491525424, 0.782608695652174]"
      ]
     },
     "execution_count": 49,
     "metadata": {},
     "output_type": "execute_result"
    }
   ],
   "source": [
    "accutest(train_data, acctest_data)"
   ]
  },
  {
   "cell_type": "markdown",
   "id": "647b1caa",
   "metadata": {},
   "source": [
    "Jika diamati, akurasi akan selalu berganti-ganti seiring dengan semua fungsi dijalankan. Oleh karena itu, akan dibuatkan fungsi yang selalu mengulang pengambilan sampel dan menguji akurasi dari nilai k yang ada sampai menemukan nilai k yang sering muncul. Banyaknya perulangan yang dilakukan adalah sebanyak 50 kali."
   ]
  },
  {
   "cell_type": "code",
   "execution_count": 50,
   "id": "62c11502",
   "metadata": {},
   "outputs": [],
   "source": [
    "def accutest_loop(data):\n",
    "    most_k_val = []\n",
    "    print(\"Mencari nilai k terbaik ...\\n\")\n",
    "    i = 0\n",
    "    while i != 50:\n",
    "        acctest_data, train_data = ambilsampel(data)\n",
    "        k_val, accuracy, fscore = accutest(train_data, acctest_data)\n",
    "        most_k_val.append(k_val)\n",
    "        print(k_val, accuracy*100)\n",
    "        i+=1\n",
    "    best_k = mode(most_k_val)\n",
    "    print(\"\\nNilai K yang digunakan adalah\", best_k)\n",
    "    return best_k"
   ]
  },
  {
   "cell_type": "code",
   "execution_count": 51,
   "id": "9dbafb11",
   "metadata": {
    "scrolled": true
   },
   "outputs": [
    {
     "name": "stdout",
     "output_type": "stream",
     "text": [
      "Mencari nilai k terbaik ...\n",
      "\n",
      "1 76.27118644067797\n",
      "1 74.57627118644068\n",
      "10 71.1864406779661\n",
      "9 81.35593220338984\n",
      "5 77.96610169491525\n",
      "4 74.57627118644068\n",
      "9 77.96610169491525\n",
      "2 81.35593220338984\n",
      "9 77.96610169491525\n",
      "1 69.49152542372882\n",
      "8 69.49152542372882\n",
      "10 74.57627118644068\n",
      "10 81.35593220338984\n",
      "1 83.05084745762711\n",
      "5 79.66101694915254\n",
      "9 77.96610169491525\n",
      "9 86.4406779661017\n",
      "5 71.1864406779661\n",
      "4 88.13559322033898\n",
      "1 74.57627118644068\n",
      "9 71.1864406779661\n",
      "9 76.27118644067797\n",
      "1 76.27118644067797\n",
      "8 74.57627118644068\n",
      "3 81.35593220338984\n",
      "4 84.7457627118644\n",
      "4 72.88135593220339\n",
      "8 79.66101694915254\n",
      "9 81.35593220338984\n",
      "2 81.35593220338984\n",
      "9 76.27118644067797\n",
      "9 79.66101694915254\n",
      "5 79.66101694915254\n",
      "9 74.57627118644068\n",
      "2 83.05084745762711\n",
      "10 74.57627118644068\n",
      "5 77.96610169491525\n",
      "2 83.05084745762711\n",
      "1 69.49152542372882\n",
      "8 81.35593220338984\n",
      "1 71.1864406779661\n",
      "8 76.27118644067797\n",
      "2 69.49152542372882\n",
      "4 76.27118644067797\n",
      "10 86.4406779661017\n",
      "2 79.66101694915254\n",
      "2 79.66101694915254\n",
      "3 79.66101694915254\n",
      "7 74.57627118644068\n",
      "1 74.57627118644068\n",
      "\n",
      "Nilai K yang digunakan adalah 9\n"
     ]
    },
    {
     "data": {
      "text/plain": [
       "9"
      ]
     },
     "execution_count": 51,
     "metadata": {},
     "output_type": "execute_result"
    }
   ],
   "source": [
    "accutest_loop(data)"
   ]
  },
  {
   "cell_type": "markdown",
   "id": "88f815ec",
   "metadata": {},
   "source": [
    "# 4. Pengujian model data"
   ]
  },
  {
   "cell_type": "markdown",
   "id": "51862225",
   "metadata": {},
   "source": [
    "Setelah dibuatnya metode learning, latih data, dan fungsi yang mencari nilai k yang optimal, maka akan dicoba model ini untuk real data (test_data). Hasil akan disimpan kedalam file excel 'HasilML.xlsx'"
   ]
  },
  {
   "cell_type": "markdown",
   "id": "92a7fe39",
   "metadata": {},
   "source": [
    "Kita akan menggunakan semua dataset (termasuk dataset yang belum dibagi-bagi)"
   ]
  },
  {
   "cell_type": "code",
   "execution_count": 52,
   "id": "df7d3e27",
   "metadata": {},
   "outputs": [],
   "source": [
    "def main(data, test_data, train_data, acctest_data):\n",
    "    \n",
    "    data_x = data[['x1', 'x2', 'x3']].values.tolist()\n",
    "    data_y = data['y'].values.tolist()\n",
    "    test = test_data.values.tolist()\n",
    "    \n",
    "    #cari nilai k terbaik\n",
    "    best_k_val = accutest_loop(data)\n",
    "    #lakukan prediksi\n",
    "    print(\"Berikut hasil prediksi test data :\\n\")\n",
    "    result = prediction(best_k_val, data_x, data_y, test)\n",
    "    dfres = test_data\n",
    "    dfres['y'] = result\n",
    "    return dfres"
   ]
  },
  {
   "cell_type": "code",
   "execution_count": 53,
   "id": "6001e899",
   "metadata": {
    "scrolled": true
   },
   "outputs": [
    {
     "name": "stdout",
     "output_type": "stream",
     "text": [
      "Mencari nilai k terbaik ...\n",
      "\n",
      "3 79.66101694915254\n",
      "2 81.35593220338984\n",
      "1 81.35593220338984\n",
      "5 79.66101694915254\n",
      "1 77.96610169491525\n",
      "2 79.66101694915254\n",
      "1 72.88135593220339\n",
      "9 83.05084745762711\n",
      "2 72.88135593220339\n",
      "9 83.05084745762711\n",
      "3 69.49152542372882\n",
      "5 72.88135593220339\n",
      "1 71.1864406779661\n",
      "3 79.66101694915254\n",
      "6 77.96610169491525\n",
      "10 76.27118644067797\n",
      "5 77.96610169491525\n",
      "7 76.27118644067797\n",
      "9 77.96610169491525\n",
      "2 77.96610169491525\n",
      "10 79.66101694915254\n",
      "1 74.57627118644068\n",
      "9 81.35593220338984\n",
      "2 79.66101694915254\n",
      "10 69.49152542372882\n",
      "9 81.35593220338984\n",
      "7 77.96610169491525\n",
      "7 81.35593220338984\n",
      "9 76.27118644067797\n",
      "3 71.1864406779661\n",
      "1 77.96610169491525\n",
      "1 76.27118644067797\n",
      "9 71.1864406779661\n",
      "10 77.96610169491525\n",
      "9 76.27118644067797\n",
      "9 72.88135593220339\n",
      "10 72.88135593220339\n",
      "2 76.27118644067797\n",
      "10 74.57627118644068\n",
      "7 74.57627118644068\n",
      "10 66.10169491525424\n",
      "2 84.7457627118644\n",
      "10 79.66101694915254\n",
      "9 79.66101694915254\n",
      "9 77.96610169491525\n",
      "9 74.57627118644068\n",
      "1 77.96610169491525\n",
      "7 81.35593220338984\n",
      "1 79.66101694915254\n",
      "1 77.96610169491525\n",
      "\n",
      "Nilai K yang digunakan adalah 9\n",
      "Berikut hasil prediksi test data :\n",
      "\n"
     ]
    },
    {
     "data": {
      "text/html": [
       "<div>\n",
       "<style scoped>\n",
       "    .dataframe tbody tr th:only-of-type {\n",
       "        vertical-align: middle;\n",
       "    }\n",
       "\n",
       "    .dataframe tbody tr th {\n",
       "        vertical-align: top;\n",
       "    }\n",
       "\n",
       "    .dataframe thead th {\n",
       "        text-align: right;\n",
       "    }\n",
       "</style>\n",
       "<table border=\"1\" class=\"dataframe\">\n",
       "  <thead>\n",
       "    <tr style=\"text-align: right;\">\n",
       "      <th></th>\n",
       "      <th>x1</th>\n",
       "      <th>x2</th>\n",
       "      <th>x3</th>\n",
       "      <th>y</th>\n",
       "    </tr>\n",
       "    <tr>\n",
       "      <th>id</th>\n",
       "      <th></th>\n",
       "      <th></th>\n",
       "      <th></th>\n",
       "      <th></th>\n",
       "    </tr>\n",
       "  </thead>\n",
       "  <tbody>\n",
       "    <tr>\n",
       "      <th>297</th>\n",
       "      <td>43</td>\n",
       "      <td>59</td>\n",
       "      <td>2</td>\n",
       "      <td>1</td>\n",
       "    </tr>\n",
       "    <tr>\n",
       "      <th>298</th>\n",
       "      <td>67</td>\n",
       "      <td>66</td>\n",
       "      <td>0</td>\n",
       "      <td>1</td>\n",
       "    </tr>\n",
       "    <tr>\n",
       "      <th>299</th>\n",
       "      <td>58</td>\n",
       "      <td>60</td>\n",
       "      <td>3</td>\n",
       "      <td>1</td>\n",
       "    </tr>\n",
       "    <tr>\n",
       "      <th>300</th>\n",
       "      <td>49</td>\n",
       "      <td>63</td>\n",
       "      <td>3</td>\n",
       "      <td>1</td>\n",
       "    </tr>\n",
       "    <tr>\n",
       "      <th>301</th>\n",
       "      <td>45</td>\n",
       "      <td>60</td>\n",
       "      <td>0</td>\n",
       "      <td>1</td>\n",
       "    </tr>\n",
       "    <tr>\n",
       "      <th>302</th>\n",
       "      <td>54</td>\n",
       "      <td>58</td>\n",
       "      <td>1</td>\n",
       "      <td>1</td>\n",
       "    </tr>\n",
       "    <tr>\n",
       "      <th>303</th>\n",
       "      <td>56</td>\n",
       "      <td>66</td>\n",
       "      <td>3</td>\n",
       "      <td>1</td>\n",
       "    </tr>\n",
       "    <tr>\n",
       "      <th>304</th>\n",
       "      <td>42</td>\n",
       "      <td>69</td>\n",
       "      <td>1</td>\n",
       "      <td>1</td>\n",
       "    </tr>\n",
       "    <tr>\n",
       "      <th>305</th>\n",
       "      <td>50</td>\n",
       "      <td>59</td>\n",
       "      <td>2</td>\n",
       "      <td>1</td>\n",
       "    </tr>\n",
       "    <tr>\n",
       "      <th>306</th>\n",
       "      <td>59</td>\n",
       "      <td>60</td>\n",
       "      <td>0</td>\n",
       "      <td>1</td>\n",
       "    </tr>\n",
       "  </tbody>\n",
       "</table>\n",
       "</div>"
      ],
      "text/plain": [
       "     x1  x2  x3  y\n",
       "id                \n",
       "297  43  59   2  1\n",
       "298  67  66   0  1\n",
       "299  58  60   3  1\n",
       "300  49  63   3  1\n",
       "301  45  60   0  1\n",
       "302  54  58   1  1\n",
       "303  56  66   3  1\n",
       "304  42  69   1  1\n",
       "305  50  59   2  1\n",
       "306  59  60   0  1"
      ]
     },
     "execution_count": 53,
     "metadata": {},
     "output_type": "execute_result"
    }
   ],
   "source": [
    "datafinal = main(data, test_data, train_data, acctest_data)\n",
    "datafinal"
   ]
  },
  {
   "cell_type": "code",
   "execution_count": 54,
   "id": "40793b5f",
   "metadata": {},
   "outputs": [
    {
     "ename": "PermissionError",
     "evalue": "[Errno 13] Permission denied: 'HasilML.xlsx'",
     "output_type": "error",
     "traceback": [
      "\u001b[1;31m---------------------------------------------------------------------------\u001b[0m",
      "\u001b[1;31mPermissionError\u001b[0m                           Traceback (most recent call last)",
      "\u001b[1;32mC:\\Users\\HANIFA~1\\AppData\\Local\\Temp/ipykernel_26448/3437565654.py\u001b[0m in \u001b[0;36m<module>\u001b[1;34m\u001b[0m\n\u001b[1;32m----> 1\u001b[1;33m \u001b[0mdatafinal\u001b[0m\u001b[1;33m.\u001b[0m\u001b[0mto_excel\u001b[0m\u001b[1;33m(\u001b[0m\u001b[1;34m'HasilML.xlsx'\u001b[0m\u001b[1;33m,\u001b[0m \u001b[0msheet_name\u001b[0m\u001b[1;33m=\u001b[0m\u001b[1;34m'Hasil Akhir'\u001b[0m\u001b[1;33m)\u001b[0m\u001b[1;33m\u001b[0m\u001b[1;33m\u001b[0m\u001b[0m\n\u001b[0m",
      "\u001b[1;32mC:\\ProgramData\\Anaconda3\\lib\\site-packages\\pandas\\core\\generic.py\u001b[0m in \u001b[0;36mto_excel\u001b[1;34m(self, excel_writer, sheet_name, na_rep, float_format, columns, header, index, index_label, startrow, startcol, engine, merge_cells, encoding, inf_rep, verbose, freeze_panes, storage_options)\u001b[0m\n\u001b[0;32m   2282\u001b[0m             \u001b[0minf_rep\u001b[0m\u001b[1;33m=\u001b[0m\u001b[0minf_rep\u001b[0m\u001b[1;33m,\u001b[0m\u001b[1;33m\u001b[0m\u001b[1;33m\u001b[0m\u001b[0m\n\u001b[0;32m   2283\u001b[0m         )\n\u001b[1;32m-> 2284\u001b[1;33m         formatter.write(\n\u001b[0m\u001b[0;32m   2285\u001b[0m             \u001b[0mexcel_writer\u001b[0m\u001b[1;33m,\u001b[0m\u001b[1;33m\u001b[0m\u001b[1;33m\u001b[0m\u001b[0m\n\u001b[0;32m   2286\u001b[0m             \u001b[0msheet_name\u001b[0m\u001b[1;33m=\u001b[0m\u001b[0msheet_name\u001b[0m\u001b[1;33m,\u001b[0m\u001b[1;33m\u001b[0m\u001b[1;33m\u001b[0m\u001b[0m\n",
      "\u001b[1;32mC:\\ProgramData\\Anaconda3\\lib\\site-packages\\pandas\\io\\formats\\excel.py\u001b[0m in \u001b[0;36mwrite\u001b[1;34m(self, writer, sheet_name, startrow, startcol, freeze_panes, engine, storage_options)\u001b[0m\n\u001b[0;32m    832\u001b[0m             \u001b[1;31m# error: Cannot instantiate abstract class 'ExcelWriter' with abstract\u001b[0m\u001b[1;33m\u001b[0m\u001b[1;33m\u001b[0m\u001b[0m\n\u001b[0;32m    833\u001b[0m             \u001b[1;31m# attributes 'engine', 'save', 'supported_extensions' and 'write_cells'\u001b[0m\u001b[1;33m\u001b[0m\u001b[1;33m\u001b[0m\u001b[0m\n\u001b[1;32m--> 834\u001b[1;33m             writer = ExcelWriter(  # type: ignore[abstract]\n\u001b[0m\u001b[0;32m    835\u001b[0m                 \u001b[0mwriter\u001b[0m\u001b[1;33m,\u001b[0m \u001b[0mengine\u001b[0m\u001b[1;33m=\u001b[0m\u001b[0mengine\u001b[0m\u001b[1;33m,\u001b[0m \u001b[0mstorage_options\u001b[0m\u001b[1;33m=\u001b[0m\u001b[0mstorage_options\u001b[0m\u001b[1;33m\u001b[0m\u001b[1;33m\u001b[0m\u001b[0m\n\u001b[0;32m    836\u001b[0m             )\n",
      "\u001b[1;32mC:\\ProgramData\\Anaconda3\\lib\\site-packages\\pandas\\io\\excel\\_xlsxwriter.py\u001b[0m in \u001b[0;36m__init__\u001b[1;34m(self, path, engine, date_format, datetime_format, mode, storage_options, if_sheet_exists, engine_kwargs, **kwargs)\u001b[0m\n\u001b[0;32m    189\u001b[0m             \u001b[1;32mraise\u001b[0m \u001b[0mValueError\u001b[0m\u001b[1;33m(\u001b[0m\u001b[1;34m\"Append mode is not supported with xlsxwriter!\"\u001b[0m\u001b[1;33m)\u001b[0m\u001b[1;33m\u001b[0m\u001b[1;33m\u001b[0m\u001b[0m\n\u001b[0;32m    190\u001b[0m \u001b[1;33m\u001b[0m\u001b[0m\n\u001b[1;32m--> 191\u001b[1;33m         super().__init__(\n\u001b[0m\u001b[0;32m    192\u001b[0m             \u001b[0mpath\u001b[0m\u001b[1;33m,\u001b[0m\u001b[1;33m\u001b[0m\u001b[1;33m\u001b[0m\u001b[0m\n\u001b[0;32m    193\u001b[0m             \u001b[0mengine\u001b[0m\u001b[1;33m=\u001b[0m\u001b[0mengine\u001b[0m\u001b[1;33m,\u001b[0m\u001b[1;33m\u001b[0m\u001b[1;33m\u001b[0m\u001b[0m\n",
      "\u001b[1;32mC:\\ProgramData\\Anaconda3\\lib\\site-packages\\pandas\\io\\excel\\_base.py\u001b[0m in \u001b[0;36m__init__\u001b[1;34m(self, path, engine, date_format, datetime_format, mode, storage_options, if_sheet_exists, engine_kwargs, **kwargs)\u001b[0m\n\u001b[0;32m    923\u001b[0m         \u001b[0mself\u001b[0m\u001b[1;33m.\u001b[0m\u001b[0mhandles\u001b[0m \u001b[1;33m=\u001b[0m \u001b[0mIOHandles\u001b[0m\u001b[1;33m(\u001b[0m\u001b[0mcast\u001b[0m\u001b[1;33m(\u001b[0m\u001b[0mBuffer\u001b[0m\u001b[1;33m,\u001b[0m \u001b[0mpath\u001b[0m\u001b[1;33m)\u001b[0m\u001b[1;33m,\u001b[0m \u001b[0mcompression\u001b[0m\u001b[1;33m=\u001b[0m\u001b[1;33m{\u001b[0m\u001b[1;34m\"copression\"\u001b[0m\u001b[1;33m:\u001b[0m \u001b[1;32mNone\u001b[0m\u001b[1;33m}\u001b[0m\u001b[1;33m)\u001b[0m\u001b[1;33m\u001b[0m\u001b[1;33m\u001b[0m\u001b[0m\n\u001b[0;32m    924\u001b[0m         \u001b[1;32mif\u001b[0m \u001b[1;32mnot\u001b[0m \u001b[0misinstance\u001b[0m\u001b[1;33m(\u001b[0m\u001b[0mpath\u001b[0m\u001b[1;33m,\u001b[0m \u001b[0mExcelWriter\u001b[0m\u001b[1;33m)\u001b[0m\u001b[1;33m:\u001b[0m\u001b[1;33m\u001b[0m\u001b[1;33m\u001b[0m\u001b[0m\n\u001b[1;32m--> 925\u001b[1;33m             self.handles = get_handle(\n\u001b[0m\u001b[0;32m    926\u001b[0m                 \u001b[0mpath\u001b[0m\u001b[1;33m,\u001b[0m \u001b[0mmode\u001b[0m\u001b[1;33m,\u001b[0m \u001b[0mstorage_options\u001b[0m\u001b[1;33m=\u001b[0m\u001b[0mstorage_options\u001b[0m\u001b[1;33m,\u001b[0m \u001b[0mis_text\u001b[0m\u001b[1;33m=\u001b[0m\u001b[1;32mFalse\u001b[0m\u001b[1;33m\u001b[0m\u001b[1;33m\u001b[0m\u001b[0m\n\u001b[0;32m    927\u001b[0m             )\n",
      "\u001b[1;32mC:\\ProgramData\\Anaconda3\\lib\\site-packages\\pandas\\io\\common.py\u001b[0m in \u001b[0;36mget_handle\u001b[1;34m(path_or_buf, mode, encoding, compression, memory_map, is_text, errors, storage_options)\u001b[0m\n\u001b[0;32m    709\u001b[0m         \u001b[1;32melse\u001b[0m\u001b[1;33m:\u001b[0m\u001b[1;33m\u001b[0m\u001b[1;33m\u001b[0m\u001b[0m\n\u001b[0;32m    710\u001b[0m             \u001b[1;31m# Binary mode\u001b[0m\u001b[1;33m\u001b[0m\u001b[1;33m\u001b[0m\u001b[0m\n\u001b[1;32m--> 711\u001b[1;33m             \u001b[0mhandle\u001b[0m \u001b[1;33m=\u001b[0m \u001b[0mopen\u001b[0m\u001b[1;33m(\u001b[0m\u001b[0mhandle\u001b[0m\u001b[1;33m,\u001b[0m \u001b[0mioargs\u001b[0m\u001b[1;33m.\u001b[0m\u001b[0mmode\u001b[0m\u001b[1;33m)\u001b[0m\u001b[1;33m\u001b[0m\u001b[1;33m\u001b[0m\u001b[0m\n\u001b[0m\u001b[0;32m    712\u001b[0m         \u001b[0mhandles\u001b[0m\u001b[1;33m.\u001b[0m\u001b[0mappend\u001b[0m\u001b[1;33m(\u001b[0m\u001b[0mhandle\u001b[0m\u001b[1;33m)\u001b[0m\u001b[1;33m\u001b[0m\u001b[1;33m\u001b[0m\u001b[0m\n\u001b[0;32m    713\u001b[0m \u001b[1;33m\u001b[0m\u001b[0m\n",
      "\u001b[1;31mPermissionError\u001b[0m: [Errno 13] Permission denied: 'HasilML.xlsx'"
     ]
    }
   ],
   "source": [
    "datafinal.to_excel('HasilML.xlsx', sheet_name='Hasil Akhir')"
   ]
  },
  {
   "cell_type": "markdown",
   "id": "ffe678d4",
   "metadata": {},
   "source": [
    "# Scrap function (Debugging Purposes Only)"
   ]
  },
  {
   "cell_type": "code",
   "execution_count": null,
   "id": "e4f555b2",
   "metadata": {},
   "outputs": [],
   "source": [
    "len(range(1, 60, 2))"
   ]
  },
  {
   "cell_type": "code",
   "execution_count": null,
   "id": "94eb12eb",
   "metadata": {},
   "outputs": [],
   "source": [
    "#buat fungsi menghitung akurasi, nanti buat jg sistem yang bisa ngecycle k biar dapet nilai k yg terbaik\n",
    "def accuracy_test(train_data_x, train_data_y, acctest_data_x, acctest_data_y):\n",
    "    nilai_k = range(1, 60, 2)\n",
    "    acc_res = []\n",
    "    for k in nilai_k:\n",
    "        correctans = 0\n",
    "        test_arr = prediction(k, train_data_x, train_data_y, acctest_data_x, acctest_data_y)\n",
    "        i = 0\n",
    "        while i != len(test_arr):\n",
    "            if test_arr[i][0] == test_arr[i][1]:\n",
    "                correctans += 1\n",
    "            i += 1\n",
    "        avg_acc = (correctans/len(test_arr))*100\n",
    "        acc_res.append([k, avg_acc])\n",
    "    acc_res.sort(key=lambda x: x[1], reverse=True)\n",
    "    return acc_res"
   ]
  },
  {
   "cell_type": "code",
   "execution_count": null,
   "id": "16449996",
   "metadata": {
    "scrolled": true
   },
   "outputs": [],
   "source": [
    "test_result = accuracy_test(train_data_x, train_data_y, acctest_data_x, acctest_data_y)\n",
    "test_result\n",
    "#print(\"Didapatkan akurasi terbaik dengan k\", test_result[0], \"dan akurasi\", test_result[1], \"%\")"
   ]
  }
 ],
 "metadata": {
  "kernelspec": {
   "display_name": "Python 3 (ipykernel)",
   "language": "python",
   "name": "python3"
  },
  "language_info": {
   "codemirror_mode": {
    "name": "ipython",
    "version": 3
   },
   "file_extension": ".py",
   "mimetype": "text/x-python",
   "name": "python",
   "nbconvert_exporter": "python",
   "pygments_lexer": "ipython3",
   "version": "3.9.7"
  }
 },
 "nbformat": 4,
 "nbformat_minor": 5
}
